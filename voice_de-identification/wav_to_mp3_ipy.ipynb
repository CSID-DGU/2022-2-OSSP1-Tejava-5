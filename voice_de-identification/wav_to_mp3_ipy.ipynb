{
 "cells": [
  {
   "cell_type": "code",
   "execution_count": 5,
   "id": "b6b4c5e6",
   "metadata": {},
   "outputs": [],
   "source": [
    "from pydub import AudioSegment\n",
    "import os\n",
    "\n",
    "def wav_to_mp3(de_identified_wav):\n",
    "    #files\n",
    "    wav_file = de_identified_wav\n",
    "    mp3_file = \"de_identified_audio.mp3\"\n",
    "    \n",
    "    #convert mp3 file to wav file\n",
    "    audSeg = AudioSegment.from_wav(wav_file)\n",
    "    audSeg.export(mp3_file, format=\"mp3\")\n",
    "    \n",
    "    #remove mp3 file\n",
    "    os.remove(wav_file)\n",
    "    "
   ]
  }
 ],
 "metadata": {
  "kernelspec": {
   "display_name": "Python 3 (ipykernel)",
   "language": "python",
   "name": "python3"
  },
  "language_info": {
   "codemirror_mode": {
    "name": "ipython",
    "version": 3
   },
   "file_extension": ".py",
   "mimetype": "text/x-python",
   "name": "python",
   "nbconvert_exporter": "python",
   "pygments_lexer": "ipython3",
   "version": "3.9.12"
  }
 },
 "nbformat": 4,
 "nbformat_minor": 5
}
