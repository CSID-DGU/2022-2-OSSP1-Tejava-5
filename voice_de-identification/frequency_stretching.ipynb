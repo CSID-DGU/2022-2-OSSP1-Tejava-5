{
 "cells": [
  {
   "cell_type": "code",
   "execution_count": null,
   "id": "8cf673ed",
   "metadata": {},
   "outputs": [],
   "source": [
    "def warp_spectrum(S: np.array, factor: float) -> np.array:\n",
    "    \"\"\"Stretch frequency of spectrogram.\n",
    "    \n",
    "    Params\n",
    "    ------\n",
    "    S: spectrogram\n",
    "    factor: scaling factor\n",
    "    \"\"\"\n",
    "    #for s in S.T:\n",
    "        #print((np.arange(0,len(s))/len(s))*factor)\n",
    "    out_S = np.array([np.interp((np.arange(0, len(s)) / len(s)) * factor,\n",
    "                               (np.arange(0, len(s)) / len(s)),\n",
    "                               s)\n",
    "                      for s in S.T], dtype=complex).T\n",
    "\n",
    "    return out_S\n",
    "\n",
    "\n",
    "def shift_freq(x: np.array, alpha: float,\n",
    "               n_fft=512, hop_length=64) -> np.array:\n",
    "    \"\"\"Scale frequency of the data.\n",
    "    \n",
    "    Params\n",
    "    ------\n",
    "    x: audio data\n",
    "    alpha: scaling factor\n",
    "    n_fft: FFT points\n",
    "    hop_length: jump length \n",
    "    \n",
    "    Returns\n",
    "    -------\n",
    "    syn_x: synthesized data\n",
    "    \"\"\"\n",
    "    S1 = librosa.stft(x, n_fft=n_fft, hop_length=hop_length)\n",
    "    S2 = warp_spectrum(S1, alpha**(1/3)+0.06)\n",
    "    syn_x = librosa.istft(S2, hop_length=hop_length, win_length=n_fft)\n",
    "\n",
    "    return syn_x"
   ]
  }
 ],
 "metadata": {
  "kernelspec": {
   "display_name": "Python 3 (ipykernel)",
   "language": "python",
   "name": "python3"
  },
  "language_info": {
   "codemirror_mode": {
    "name": "ipython",
    "version": 3
   },
   "file_extension": ".py",
   "mimetype": "text/x-python",
   "name": "python",
   "nbconvert_exporter": "python",
   "pygments_lexer": "ipython3",
   "version": "3.9.12"
  }
 },
 "nbformat": 4,
 "nbformat_minor": 5
}
