{
 "cells": [
  {
   "cell_type": "code",
   "execution_count": 3,
   "id": "1325dcda",
   "metadata": {},
   "outputs": [],
   "source": [
    "from pydub import AudioSegment\n",
    "import os\n",
    "\n",
    "def mp3_to_wav(extracted_mp3):\n",
    "    #files\n",
    "    mp3_file = extracted_mp3\n",
    "    wav_file = \"extracted_wav_audio.wav\"\n",
    "    \n",
    "    #convert mp3 file to wav file\n",
    "    audSeg = AudioSegment.from_mp3(mp3_file)\n",
    "    audSeg.export(wav_file, format=\"wav\")\n",
    "    \n",
    "    #remove mp3 file\n",
    "    os.remove(mp3_file)\n",
    "    \n",
    "    \n",
    "#mp3_to_wav(\"sample.mp3\")"
   ]
  }
 ],
 "metadata": {
  "kernelspec": {
   "display_name": "Python 3 (ipykernel)",
   "language": "python",
   "name": "python3"
  },
  "language_info": {
   "codemirror_mode": {
    "name": "ipython",
    "version": 3
   },
   "file_extension": ".py",
   "mimetype": "text/x-python",
   "name": "python",
   "nbconvert_exporter": "python",
   "pygments_lexer": "ipython3",
   "version": "3.9.12"
  }
 },
 "nbformat": 4,
 "nbformat_minor": 5
}
