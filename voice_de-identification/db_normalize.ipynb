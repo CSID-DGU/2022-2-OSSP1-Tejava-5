{
 "cells": [
  {
   "cell_type": "code",
   "execution_count": 50,
   "id": "0847cbf3",
   "metadata": {
    "scrolled": true
   },
   "outputs": [
    {
     "name": "stdout",
     "output_type": "stream",
     "text": [
      "input:  -39.78221315139747\n",
      "de-indentified:  -23.36630304099396\n",
      "difference:  -16.415910110403512\n",
      "normalized:  -34.789512076606975\n"
     ]
    },
    {
     "data": {
      "text/plain": [
       "'\\nsong = AudioSegment.from_wav(\"1122.wav\")\\nprint(song.dBFS)\\n# boost volume by 6dB\\nlouder_song = song - 6\\nprint(louder_song.dBFS)\\ndifference = song.dBFS-louder_song.dBFS\\n\\nnew_song = louder_song + difference\\nprint(new_song.dBFS)\\n'"
      ]
     },
     "execution_count": 50,
     "metadata": {},
     "output_type": "execute_result"
    }
   ],
   "source": [
    "from pydub import AudioSegment\n",
    "\n",
    "def db_normalize(input_file_name, de_identified_file_name):\n",
    "    input_song = AudioSegment.from_wav(input_file_name)\n",
    "    de_identified_song = AudioSegment.from_wav(de_identified_file_name)\n",
    "    \n",
    "    db_difference = input_song.dBFS - de_identified_song.dBFS\n",
    "    \n",
    "    normalized_song = de_identified_song + db_difference + 5\n",
    "    \n",
    "    return normalized_song\n",
    " \n",
    "\n",
    "# normalized_song = db_normalize(\"example.wav\", \"test_output_2.wav\")\n",
    "# normalized_song.export(\"new_song.wav\", format='wav')"
   ]
  }
 ],
 "metadata": {
  "kernelspec": {
   "display_name": "Python 3 (ipykernel)",
   "language": "python",
   "name": "python3"
  },
  "language_info": {
   "codemirror_mode": {
    "name": "ipython",
    "version": 3
   },
   "file_extension": ".py",
   "mimetype": "text/x-python",
   "name": "python",
   "nbconvert_exporter": "python",
   "pygments_lexer": "ipython3",
   "version": "3.9.12"
  }
 },
 "nbformat": 4,
 "nbformat_minor": 5
}
