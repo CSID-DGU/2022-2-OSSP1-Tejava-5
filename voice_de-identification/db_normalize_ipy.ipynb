{
 "cells": [
  {
   "cell_type": "code",
   "execution_count": 4,
   "id": "0847cbf3",
   "metadata": {
    "scrolled": true
   },
   "outputs": [],
   "source": [
    "from pydub import AudioSegment\n",
    "import os\n",
    "\n",
    "def db_normalize(input_file_name, de_identified_file_name):\n",
    "    input_song = AudioSegment.from_wav(input_file_name)\n",
    "    de_identified_song = AudioSegment.from_wav(de_identified_file_name)\n",
    "    \n",
    "    #evaluate dBFS difference between input_song and de_identified_song\n",
    "    db_difference = input_song.dBFS - de_identified_song.dBFS\n",
    "    \n",
    "    #normalized dBFS\n",
    "    normalized_song = de_identified_song + db_difference\n",
    "    \n",
    "    normalized_song.export(\"normalized_audio.wav\", format='wav')\n",
    "    os.remove(input_file_name)\n",
    "    os.remove(de_identified_file_name)\n",
    "    "
   ]
  }
 ],
 "metadata": {
  "kernelspec": {
   "display_name": "Python 3 (ipykernel)",
   "language": "python",
   "name": "python3"
  },
  "language_info": {
   "codemirror_mode": {
    "name": "ipython",
    "version": 3
   },
   "file_extension": ".py",
   "mimetype": "text/x-python",
   "name": "python",
   "nbconvert_exporter": "python",
   "pygments_lexer": "ipython3",
   "version": "3.9.12"
  }
 },
 "nbformat": 4,
 "nbformat_minor": 5
}
