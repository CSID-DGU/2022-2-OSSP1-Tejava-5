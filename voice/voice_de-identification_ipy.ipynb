{
 "cells": [
  {
   "cell_type": "code",
   "execution_count": null,
   "id": "f2b7845f",
   "metadata": {},
   "outputs": [
    {
     "ename": "",
     "evalue": "",
     "output_type": "error",
     "traceback": [
      "\u001b[1;31mThe kernel failed to start due to the missing module 'backcall'. Consider installing this module.\n",
      "\u001b[1;31mClick <a href='https://aka.ms/kernelFailuresMissingModule'>here</a> for more info."
     ]
    }
   ],
   "source": [
    "import import_ipynb\n",
    "from mp3_to_wav_ipy import mp3_to_wav\n",
    "from pitch_shift_ipy import pitch_shift\n",
    "from frequency_stretching_ipy import frequency_stretching\n",
    "from db_normalize_ipy import db_normalize\n",
    "from wav_to_mp3_ipy import wav_to_mp3\n",
    "\n",
    "def voice_de_identification_ipy(extracted_audio, alpha):\n",
    "    mp3_to_wav(extracted_audio) # change extracted mp3 file to wav\n",
    "    \n",
    "    pitch_shift(\"extracted_wav_audio.wav\", alpha) # shifting pitch \n",
    "    frequency_stretching(\"pitch_shifted_audio.wav\", alpha) # frequency stretching\n",
    "    \n",
    "    # db normalize between pitch shifted audio and frequency stretched audio\n",
    "    db_normalize(\"pitch_shifted_audio.wav\", \"frequency_stretched_audio.wav\")\n",
    "    \n",
    "    wav_to_mp3(\"normalized_audio.wav\") # change normalized wav file to mp3\n",
    "    \n",
    "    \n",
    "# output: de_identified_audio.mp3"
   ]
  }
 ],
 "metadata": {
  "kernelspec": {
   "display_name": "base",
   "language": "python",
   "name": "python3"
  },
  "language_info": {
   "codemirror_mode": {
    "name": "ipython",
    "version": 3
   },
   "file_extension": ".py",
   "mimetype": "text/x-python",
   "name": "python",
   "nbconvert_exporter": "python",
   "pygments_lexer": "ipython3",
   "version": "3.9.7 (default, Sep 16 2021, 16:59:28) [MSC v.1916 64 bit (AMD64)]"
  },
  "vscode": {
   "interpreter": {
    "hash": "238a711ee6d2dcc0f97d3e57720444a65e685ab6647d78195bcce6175c9a0480"
   }
  }
 },
 "nbformat": 4,
 "nbformat_minor": 5
}
